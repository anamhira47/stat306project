{
 "cells": [
  {
   "cell_type": "code",
   "execution_count": 3,
   "metadata": {},
   "outputs": [
    {
     "data": {
      "text/html": [
       "<table class=\"dataframe\">\n",
       "<caption>A data.frame: 6 × 12</caption>\n",
       "<thead>\n",
       "\t<tr><th></th><th scope=col>X</th><th scope=col>airline</th><th scope=col>flight</th><th scope=col>source_city</th><th scope=col>departure_time</th><th scope=col>stops</th><th scope=col>arrival_time</th><th scope=col>destination_city</th><th scope=col>class</th><th scope=col>duration</th><th scope=col>days_left</th><th scope=col>price</th></tr>\n",
       "\t<tr><th></th><th scope=col>&lt;int&gt;</th><th scope=col>&lt;chr&gt;</th><th scope=col>&lt;chr&gt;</th><th scope=col>&lt;chr&gt;</th><th scope=col>&lt;chr&gt;</th><th scope=col>&lt;chr&gt;</th><th scope=col>&lt;chr&gt;</th><th scope=col>&lt;chr&gt;</th><th scope=col>&lt;chr&gt;</th><th scope=col>&lt;dbl&gt;</th><th scope=col>&lt;int&gt;</th><th scope=col>&lt;int&gt;</th></tr>\n",
       "</thead>\n",
       "<tbody>\n",
       "\t<tr><th scope=row>1</th><td>0</td><td>SpiceJet</td><td>SG-8709</td><td>Delhi</td><td>Evening      </td><td>zero</td><td>Night        </td><td>Mumbai</td><td>Economy</td><td>2.17</td><td>1</td><td>5953</td></tr>\n",
       "\t<tr><th scope=row>2</th><td>1</td><td>SpiceJet</td><td>SG-8157</td><td>Delhi</td><td>Early_Morning</td><td>zero</td><td>Morning      </td><td>Mumbai</td><td>Economy</td><td>2.33</td><td>1</td><td>5953</td></tr>\n",
       "\t<tr><th scope=row>3</th><td>2</td><td>AirAsia </td><td>I5-764 </td><td>Delhi</td><td>Early_Morning</td><td>zero</td><td>Early_Morning</td><td>Mumbai</td><td>Economy</td><td>2.17</td><td>1</td><td>5956</td></tr>\n",
       "\t<tr><th scope=row>4</th><td>3</td><td>Vistara </td><td>UK-995 </td><td>Delhi</td><td>Morning      </td><td>zero</td><td>Afternoon    </td><td>Mumbai</td><td>Economy</td><td>2.25</td><td>1</td><td>5955</td></tr>\n",
       "\t<tr><th scope=row>5</th><td>4</td><td>Vistara </td><td>UK-963 </td><td>Delhi</td><td>Morning      </td><td>zero</td><td>Morning      </td><td>Mumbai</td><td>Economy</td><td>2.33</td><td>1</td><td>5955</td></tr>\n",
       "\t<tr><th scope=row>6</th><td>5</td><td>Vistara </td><td>UK-945 </td><td>Delhi</td><td>Morning      </td><td>zero</td><td>Afternoon    </td><td>Mumbai</td><td>Economy</td><td>2.33</td><td>1</td><td>5955</td></tr>\n",
       "</tbody>\n",
       "</table>\n"
      ],
      "text/latex": [
       "A data.frame: 6 × 12\n",
       "\\begin{tabular}{r|llllllllllll}\n",
       "  & X & airline & flight & source\\_city & departure\\_time & stops & arrival\\_time & destination\\_city & class & duration & days\\_left & price\\\\\n",
       "  & <int> & <chr> & <chr> & <chr> & <chr> & <chr> & <chr> & <chr> & <chr> & <dbl> & <int> & <int>\\\\\n",
       "\\hline\n",
       "\t1 & 0 & SpiceJet & SG-8709 & Delhi & Evening       & zero & Night         & Mumbai & Economy & 2.17 & 1 & 5953\\\\\n",
       "\t2 & 1 & SpiceJet & SG-8157 & Delhi & Early\\_Morning & zero & Morning       & Mumbai & Economy & 2.33 & 1 & 5953\\\\\n",
       "\t3 & 2 & AirAsia  & I5-764  & Delhi & Early\\_Morning & zero & Early\\_Morning & Mumbai & Economy & 2.17 & 1 & 5956\\\\\n",
       "\t4 & 3 & Vistara  & UK-995  & Delhi & Morning       & zero & Afternoon     & Mumbai & Economy & 2.25 & 1 & 5955\\\\\n",
       "\t5 & 4 & Vistara  & UK-963  & Delhi & Morning       & zero & Morning       & Mumbai & Economy & 2.33 & 1 & 5955\\\\\n",
       "\t6 & 5 & Vistara  & UK-945  & Delhi & Morning       & zero & Afternoon     & Mumbai & Economy & 2.33 & 1 & 5955\\\\\n",
       "\\end{tabular}\n"
      ],
      "text/markdown": [
       "\n",
       "A data.frame: 6 × 12\n",
       "\n",
       "| <!--/--> | X &lt;int&gt; | airline &lt;chr&gt; | flight &lt;chr&gt; | source_city &lt;chr&gt; | departure_time &lt;chr&gt; | stops &lt;chr&gt; | arrival_time &lt;chr&gt; | destination_city &lt;chr&gt; | class &lt;chr&gt; | duration &lt;dbl&gt; | days_left &lt;int&gt; | price &lt;int&gt; |\n",
       "|---|---|---|---|---|---|---|---|---|---|---|---|---|\n",
       "| 1 | 0 | SpiceJet | SG-8709 | Delhi | Evening       | zero | Night         | Mumbai | Economy | 2.17 | 1 | 5953 |\n",
       "| 2 | 1 | SpiceJet | SG-8157 | Delhi | Early_Morning | zero | Morning       | Mumbai | Economy | 2.33 | 1 | 5953 |\n",
       "| 3 | 2 | AirAsia  | I5-764  | Delhi | Early_Morning | zero | Early_Morning | Mumbai | Economy | 2.17 | 1 | 5956 |\n",
       "| 4 | 3 | Vistara  | UK-995  | Delhi | Morning       | zero | Afternoon     | Mumbai | Economy | 2.25 | 1 | 5955 |\n",
       "| 5 | 4 | Vistara  | UK-963  | Delhi | Morning       | zero | Morning       | Mumbai | Economy | 2.33 | 1 | 5955 |\n",
       "| 6 | 5 | Vistara  | UK-945  | Delhi | Morning       | zero | Afternoon     | Mumbai | Economy | 2.33 | 1 | 5955 |\n",
       "\n"
      ],
      "text/plain": [
       "  X airline  flight  source_city departure_time stops arrival_time \n",
       "1 0 SpiceJet SG-8709 Delhi       Evening        zero  Night        \n",
       "2 1 SpiceJet SG-8157 Delhi       Early_Morning  zero  Morning      \n",
       "3 2 AirAsia  I5-764  Delhi       Early_Morning  zero  Early_Morning\n",
       "4 3 Vistara  UK-995  Delhi       Morning        zero  Afternoon    \n",
       "5 4 Vistara  UK-963  Delhi       Morning        zero  Morning      \n",
       "6 5 Vistara  UK-945  Delhi       Morning        zero  Afternoon    \n",
       "  destination_city class   duration days_left price\n",
       "1 Mumbai           Economy 2.17     1         5953 \n",
       "2 Mumbai           Economy 2.33     1         5953 \n",
       "3 Mumbai           Economy 2.17     1         5956 \n",
       "4 Mumbai           Economy 2.25     1         5955 \n",
       "5 Mumbai           Economy 2.33     1         5955 \n",
       "6 Mumbai           Economy 2.33     1         5955 "
      ]
     },
     "metadata": {},
     "output_type": "display_data"
    }
   ],
   "source": [
    "data <- read.csv('data/Clean_dataset.csv', header=TRUE)\n",
    "head(data)\n"
   ]
  },
  {
   "cell_type": "code",
   "execution_count": null,
   "metadata": {},
   "outputs": [],
   "source": []
  }
 ],
 "metadata": {
  "kernelspec": {
   "display_name": "R",
   "language": "R",
   "name": "ir"
  },
  "language_info": {
   "codemirror_mode": "r",
   "file_extension": ".r",
   "mimetype": "text/x-r-source",
   "name": "R",
   "pygments_lexer": "r",
   "version": "4.1.2"
  },
  "orig_nbformat": 4
 },
 "nbformat": 4,
 "nbformat_minor": 2
}
